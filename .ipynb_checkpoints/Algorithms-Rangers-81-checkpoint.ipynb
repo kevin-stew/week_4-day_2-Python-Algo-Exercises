{
 "cells": [
  {
   "cell_type": "markdown",
   "metadata": {},
   "source": [
    "# Cl"
   ]
  },
  {
   "cell_type": "markdown",
   "metadata": {},
   "source": [
    "## Tasks Today:\n",
    " \n",
    "1) <b>In-Place Algorithms</b> <br>\n",
    " &nbsp;&nbsp;&nbsp;&nbsp; a) Syntax <br>\n",
    " &nbsp;&nbsp;&nbsp;&nbsp; a) Out of Place Algorithm <br>\n",
    " &nbsp;&nbsp;&nbsp;&nbsp; b) In-Class Exercise #1 <br>\n",
    "2) <b>Two Pointers</b> <br>\n",
    "3) <b>Linked Lists</b> <br>\n",
    "4) <b>Merge Sort</b> <br>\n",
    " &nbsp;&nbsp;&nbsp;&nbsp; a) Video on Algorithms <br>\n",
    " &nbsp;&nbsp;&nbsp;&nbsp; b) How it Works <br>\n",
    "5) <b>Exercises</b> <br>\n",
    " &nbsp;&nbsp;&nbsp;&nbsp; a) Exercise #1 - Reverse a List in Place Using an In-Place Algorithm <br>\n",
    " &nbsp;&nbsp;&nbsp;&nbsp; b) Exercise #2 - Find Distinct Words <br>\n",
    " &nbsp;&nbsp;&nbsp;&nbsp; c) Exercise #3 - Write a program to implement a Linear Search Algorithm. <br>"
   ]
  },
  {
   "cell_type": "markdown",
   "metadata": {},
   "source": [
    "## In-Place Algorithms (Constant Space)"
   ]
  },
  {
   "cell_type": "markdown",
   "metadata": {},
   "source": [
    "#### Syntax"
   ]
  },
  {
   "cell_type": "code",
   "execution_count": 6,
   "metadata": {},
   "outputs": [
    {
     "name": "stdout",
     "output_type": "stream",
     "text": [
      "my_list beofre swap: [10, 20, 30, 40, 50]\n",
      "my_list after swap: [30, 10, 20, 40, 50]\n"
     ]
    }
   ],
   "source": [
    "# constant space time (good!)\n",
    "# swap algorithem\n",
    "# var[i], var[i+1] = var[i+1], var[i]\n",
    "\n",
    "def swap(alist,x,y,z):\n",
    "    alist[x], alist[y], alist[z] = alist[z], alist[x], alist[y]\n",
    "    return alist\n",
    "\n",
    "my_list = [10, 20, 30]\n",
    "print(f\"my_list beofre swap: {my_list}\")\n",
    "\n",
    "swap(my_list, 0, 1, 2)\n",
    "\n",
    "print(f\"my_list after swap: {my_list}\")\n"
   ]
  },
  {
   "cell_type": "markdown",
   "metadata": {},
   "source": [
    "#### Out of Place Algorithm"
   ]
  },
  {
   "cell_type": "code",
   "execution_count": 11,
   "metadata": {},
   "outputs": [
    {
     "name": "stdout",
     "output_type": "stream",
     "text": [
      "Before ['a', 'b', 'c', 'd']\n",
      "After ['d', 'c', 'b', 'a']\n"
     ]
    }
   ],
   "source": [
    "# in-place version\n",
    "my_list.reverse()\n",
    "\n",
    "# out-of-place version\n",
    "my_list_copy = my_list[::-1]\n",
    "\n",
    "array = ['a', 'b', 'c', 'd']\n",
    "new_array = ['a'] * len(array)\n",
    "\n",
    "print(\"Before\",array)\n",
    "\n",
    "length = len(array) - 1\n",
    "\n",
    "for i in range(length):\n",
    "    new_array[i] = array[length - i]\n",
    "    \n",
    "array = new_array\n",
    "print(\"After\",array)\n"
   ]
  },
  {
   "cell_type": "markdown",
   "metadata": {},
   "source": [
    "#### In-Class Exercise #1 <br>\n",
    "<p>Write a function that takes in four arguments (list, index1, index2, index3), and swaps those three positions in the list passed in.</p>"
   ]
  },
  {
   "cell_type": "code",
   "execution_count": 20,
   "metadata": {},
   "outputs": [
    {
     "name": "stdout",
     "output_type": "stream",
     "text": [
      "list before: [10, 4, 3, 8, 4, 2, 6]\n",
      "list after:  [4, 3, 10, 8, 4, 2, 6]\n"
     ]
    }
   ],
   "source": [
    "l_1 = [10, 4, 3, 8, 4, 2, 6]\n",
    "\n",
    "print(f\"list before: {l_1}\")\n",
    "\n",
    "def swap(alist,x,y,z):\n",
    "    alist[x], alist[y], alist[z] = alist[y], alist[z], alist[x]\n",
    "    return alist\n",
    "\n",
    "print(f\"list after: \", swap(l_1, 0,1,2))\n",
    "\n",
    "\n"
   ]
  },
  {
   "cell_type": "markdown",
   "metadata": {},
   "source": [
    "## Two Pointers"
   ]
  },
  {
   "cell_type": "markdown",
   "metadata": {},
   "source": [
    "#### Syntax"
   ]
  },
  {
   "cell_type": "code",
   "execution_count": 48,
   "metadata": {},
   "outputs": [
    {
     "name": "stdout",
     "output_type": "stream",
     "text": [
      "[1, 2, 5, 7, 12, 35, 88] - list before swap\n",
      "[88, 2, 5, 7, 12, 35, 1]\n",
      "[88, 35, 5, 7, 12, 2, 1]\n",
      "[88, 35, 12, 7, 5, 2, 1]\n",
      "[88, 35, 12, 7, 5, 2, 1]\n"
     ]
    },
    {
     "data": {
      "text/plain": [
       "[88, 35, 12, 7, 5, 2, 1]"
      ]
     },
     "execution_count": 48,
     "metadata": {},
     "output_type": "execute_result"
    }
   ],
   "source": [
    "# reversing a list using pointers\n",
    "# alist[left], alist[right] = alist[right], alist[left]\n",
    "# use these pointers to swap... this can be done in a loop\n",
    "#advantage = in-place, not using built\n",
    "\n",
    "def twoPointers(alist):\n",
    "    #createing the pointers👇\n",
    "    left = 0\n",
    "    right = len(alist) - 1\n",
    "    print(f\"{alist} - list before swap\")\n",
    "    while left <= right:\n",
    "        #swap\n",
    "        alist[left], alist[right] = alist[right], alist[left]\n",
    "        left += 1 #incrementing\n",
    "        right -= 1 #decrementing\n",
    "        print(alist)\n",
    "#         print(f\"LEFT: idx {left}, v {alist[left]}\", f\"  RIGHT: idx {right}, v {alist[right]}\")\n",
    "\n",
    "    return alist\n",
    "\n",
    "my_list2 = [1,2,5,7,12,35,88]\n",
    "\n",
    "twoPointers(my_list2)\n"
   ]
  },
  {
   "cell_type": "markdown",
   "metadata": {},
   "source": [
    "#### Video of Algorithms <br>\n",
    "<p>Watch the video about algorithms.</p>\n",
    "\n",
    "https://www.youtube.com/watch?v=Q9HjeFD62Uk\n",
    "\n",
    "https://www.youtube.com/watch?v=kPRA0W1kECg\n",
    "\n",
    "https://www.youtube.com/watch?v=ZZuD6iUe3Pc"
   ]
  },
  {
   "cell_type": "markdown",
   "metadata": {},
   "source": [
    "# Sorting Algorithms"
   ]
  },
  {
   "cell_type": "markdown",
   "metadata": {},
   "source": [
    "#### Bubble Sort\n",
    "\n",
    "Worst Case: O(n^2) Time - O(1) Space"
   ]
  },
  {
   "cell_type": "code",
   "execution_count": 51,
   "metadata": {},
   "outputs": [
    {
     "data": {
      "text/plain": [
       "[1, 22, 34, 44, 55, 66, 88, 100]"
      ]
     },
     "execution_count": 51,
     "metadata": {},
     "output_type": "execute_result"
    }
   ],
   "source": [
    "def swap(i,j, array):\n",
    "    array[i],array[j] = array[j],array[i]\n",
    "    \n",
    "def bubbleSort(array):\n",
    "    isSorted = False\n",
    "    while not isSorted:\n",
    "        isSorted = True\n",
    "        for num in range(len(array) - 1):\n",
    "            if array[num] > array[num + 1]:\n",
    "                swap(num, num + 1, array)\n",
    "                isSorted = False\n",
    "    return array\n",
    "bubbleSort([22,55,88,44,1,100,34,66])\n",
    "    \n",
    "    "
   ]
  },
  {
   "cell_type": "markdown",
   "metadata": {},
   "source": [
    "##### Insertion Sort\n",
    "\n",
    "Worst Case: O(n^2) time - O(1)space"
   ]
  },
  {
   "cell_type": "code",
   "execution_count": 57,
   "metadata": {},
   "outputs": [
    {
     "name": "stdout",
     "output_type": "stream",
     "text": [
      "[1, 22, 34, 44, 55, 66, 88, 100]\n"
     ]
    }
   ],
   "source": [
    "def swap(i, j, array):\n",
    "    array[i], array[j] = array[j],array[i]\n",
    "    \n",
    "def insertionSort(array):\n",
    "    for i in range(1, len(array)):  #1 value assues first int is sorted\n",
    "        while i > 0 and array[i] < array[i-1]: #O(n) operatuion\n",
    "            swap(i, i-1, array)\n",
    "            i -= 1\n",
    "    return array\n",
    "\n",
    "print(insertionSort([22,55,88,44,1,100,34,66]))"
   ]
  },
  {
   "cell_type": "code",
   "execution_count": 62,
   "metadata": {},
   "outputs": [
    {
     "name": "stdout",
     "output_type": "stream",
     "text": [
      "56\n",
      "72\n",
      "120\n",
      "120\n"
     ]
    }
   ],
   "source": [
    "#demo of how diffenet data types take up comp space\n",
    "import sys\n",
    "astring = \"1 2 3 4\"\n",
    "atup = (1,2,3,4)\n",
    "alist = [1,2,3,4]\n",
    "blist = [3,4,5,6]\n",
    "print(sys.getsizeof(astring))\n",
    "print(sys.getsizeof(atup))\n",
    "print(sys.getsizeof(alist))\n",
    "print(sys.getsizeof(blist))"
   ]
  },
  {
   "cell_type": "markdown",
   "metadata": {},
   "source": [
    "## Merge Sort"
   ]
  },
  {
   "cell_type": "markdown",
   "metadata": {},
   "source": [
    "#### How it Works"
   ]
  },
  {
   "cell_type": "code",
   "execution_count": 68,
   "metadata": {},
   "outputs": [
    {
     "name": "stdout",
     "output_type": "stream",
     "text": [
      "[3, 19, 15, 7, 14]\n",
      "splitting... [3, 19, 15, 7, 14]\n",
      "splitting... [3, 19]\n",
      "splitting... [3]\n",
      "merging:  [3]\n",
      "splitting... [19]\n",
      "merging:  [19]\n",
      "merging:  [3, 19]\n",
      "splitting... [15, 7, 14]\n",
      "splitting... [15]\n",
      "merging:  [15]\n",
      "splitting... [7, 14]\n",
      "splitting... [7]\n",
      "merging:  [7]\n",
      "splitting... [14]\n",
      "merging:  [14]\n",
      "merging:  [7, 14]\n",
      "merging:  [7, 14, 15]\n",
      "merging:  [3, 7, 14, 15, 19]\n"
     ]
    },
    {
     "data": {
      "text/plain": [
       "[3, 7, 14, 15, 19]"
      ]
     },
     "execution_count": 68,
     "metadata": {},
     "output_type": "execute_result"
    }
   ],
   "source": [
    "# step 1: split everything into it's own group\n",
    "# step 2: from left to right, merg groups together (two at a time)\n",
    "# step 3: while mergin, place each item in the correct position (in larger list)\n",
    "# step 4: continue steps 3-4 until we have a single group left\n",
    "\n",
    "from random import randint\n",
    "# generate random list of 5 numbers from 0 to 20\n",
    "nums = [randint(0,20) for i in range(5)]\n",
    "print(nums)\n",
    "\n",
    "#merge sort\n",
    "def mergeSort(alist):\n",
    "    print(\"splitting...\", alist)\n",
    "    \n",
    "    #step 1: divide if not a single (1) element\n",
    "    if len(alist) > 1:\n",
    "        mid = len(alist) // 2\n",
    "        lefthalf = alist[:mid]\n",
    "        righthalf = alist[mid:]\n",
    "        \n",
    "        # Recursively call mergeSort on the halves \n",
    "        # Then merge once they're all split up\n",
    "        mergeSort(lefthalf)\n",
    "        mergeSort(righthalf)\n",
    "        \n",
    "        #index pointers for lists\n",
    "        left = 0 # left half pointer\n",
    "        right = 0 # right half pointer\n",
    "        main = 0 # main array pointer\n",
    "        \n",
    "        # step 2: compare the halves\n",
    "        while left < len(lefthalf) and right < len(righthalf):\n",
    "            if lefthalf[left] < righthalf[right]:\n",
    "                alist[main] = lefthalf[left]\n",
    "                left = left + 1 \n",
    "            else:\n",
    "                alist[main] = righthalf[right]\n",
    "                right = right + 1\n",
    "            main = main + 1\n",
    "            \n",
    "        # step 3: place items in correct positions\n",
    "        while left < len(lefthalf):\n",
    "            alist[main] = lefthalf[left]\n",
    "            left += 1 \n",
    "            main += 1\n",
    "        while right < len(righthalf):\n",
    "            alist[main] = righthalf[right]\n",
    "            right += 1\n",
    "            main += 1\n",
    "    print(\"merging: \", alist)\n",
    "    return alist\n",
    "\n",
    "mergeSort(nums)\n"
   ]
  },
  {
   "cell_type": "markdown",
   "metadata": {},
   "source": [
    "# Binary Search\n",
    "\n",
    "The Binary Search algorithm works by finding the number in the middle of a given array and comparing it to the target. Given that the array is sorted\n",
    "\n",
    "* The worst case run time for this algorithm is `O(log(n))`"
   ]
  },
  {
   "cell_type": "code",
   "execution_count": 104,
   "metadata": {},
   "outputs": [
    {
     "name": "stdout",
     "output_type": "stream",
     "text": [
      "[3, 7, 14, 15, 19]\n"
     ]
    },
    {
     "data": {
      "text/plain": [
       "-1"
      ]
     },
     "execution_count": 104,
     "metadata": {},
     "output_type": "execute_result"
    }
   ],
   "source": [
    "# The list must be sorted\n",
    "\n",
    "print(nums)\n",
    "\n",
    "def binarySearchHelperFunction(array, target, left, right):\n",
    "    while left <= right:\n",
    "        middle = (left + right) // 2\n",
    "        potential_match = array[middle]\n",
    "        if target == potential_match:\n",
    "            return f\"The index of {target} is {middle}.\"\n",
    "        elif target < potential_match:\n",
    "            right = middle - 1\n",
    "        else:\n",
    "            left = middle + 1 \n",
    "    return -1\n",
    "\n",
    "def binarySearch(array, target):\n",
    "    return binarySearchHelperFunction(array, target, 0, len(array)-1)\n",
    "\n",
    "binarySearch(nums, 15)\n",
    "    "
   ]
  },
  {
   "cell_type": "markdown",
   "metadata": {},
   "source": [
    "# Exercises"
   ]
  },
  {
   "cell_type": "markdown",
   "metadata": {},
   "source": [
    "### Exercise #1 <br>\n",
    "<p>Reverse the list below in-place using an in-place algorithm.<br>For extra credit: Reverse the strings at the same time.</p>"
   ]
  },
  {
   "cell_type": "code",
   "execution_count": 97,
   "metadata": {},
   "outputs": [
    {
     "name": "stdout",
     "output_type": "stream",
     "text": [
      "['this', 'is', 'a', 'sentence', '.'] - list BEFORE swap\n",
      "['.', 'sentence', 'a', 'is', 'this'] - list AFTER swap\n"
     ]
    }
   ],
   "source": [
    "words = ['this' , 'is', 'a', 'sentence', '.']\n",
    "\n",
    "def twoPointers(alist):\n",
    "    left = 0\n",
    "    right = len(alist) - 1\n",
    "    \n",
    "    print(f\"{alist} - list BEFORE swap\")\n",
    "    \n",
    "    while left <= right:\n",
    "        alist[left], alist[right] = alist[right], alist[left]\n",
    "        left += 1 #incrementing\n",
    "        right -= 1 #decrementing\n",
    "\n",
    "    return alist\n",
    "\n",
    "list2 = twoPointers(words)\n",
    "    \n",
    "print(list2, \"- list AFTER swap\")\n"
   ]
  },
  {
   "cell_type": "markdown",
   "metadata": {},
   "source": [
    "### Exercise #2 <br>\n",
    "<p>Create a function that counts how many distinct words are in the string below, then outputs a dictionary with the words as the key and the value as the amount of times that word appears in the string.<br>Should output:<br>{'a': 5,<br>\n",
    " 'abstract': 1,<br>\n",
    " 'an': 3,<br>\n",
    " 'array': 2, ... etc...</p>"
   ]
  },
  {
   "cell_type": "code",
   "execution_count": 98,
   "metadata": {},
   "outputs": [
    {
     "name": "stdout",
     "output_type": "stream",
     "text": [
      "fq: key\n",
      "1 : in\n",
      "1 : computing\n",
      "5 : a\n",
      "4 : hash\n",
      "2 : table\n",
      "2 : map\n",
      "1 : is\n",
      "2 : data\n",
      "2 : structure\n",
      "2 : which\n",
      "1 : implements\n",
      "3 : an\n",
      "1 : associative\n",
      "2 : array\n",
      "1 : abstract\n",
      "1 : type\n",
      "1 : that\n",
      "2 : can\n",
      "1 : keys\n",
      "2 : to\n",
      "1 : values\n",
      "1 : uses\n",
      "1 : function\n",
      "1 : compute\n",
      "1 : index\n",
      "1 : into\n",
      "1 : of\n",
      "1 : buckets\n",
      "1 : or\n",
      "1 : slots\n",
      "1 : from\n",
      "1 : the\n",
      "1 : desired\n",
      "1 : value\n",
      "1 : be\n",
      "1 : found\n"
     ]
    }
   ],
   "source": [
    "import re\n",
    "a_text = 'In computing, a hash table hash map is a data structure which implements an associative array abstract data type, a structure that can map keys to values. A hash table uses a hash function to compute an index into an array of buckets or slots from which the desired value can be found'\n",
    "def word_count(string_in):\n",
    "    clean_string = re.sub(r'[^\\w\\s]', '', string_in) #use regex to strip input string of all non-alpha-numeric characters\n",
    "    words_dict = {} #placeholder dict\n",
    "    words_list = clean_string.lower().split() #convert clean string of words into a list of words\n",
    "\n",
    "    for word in words_list:  #run a loop on words_list to input into empty dict.  \n",
    "        if word in words_dict:\n",
    "            words_dict[word] += 1 #increment value with each instance of key\n",
    "        else:\n",
    "            words_dict[word] = 1 #all found words get entered with starting value of 1\n",
    "    return words_dict\n",
    "\n",
    "# print(word_count(a_text)) #print plain ol' dict\n",
    "\n",
    "word_dict = word_count(a_text) #function call with a_text\n",
    "\n",
    "print('fq: key')  #clean way of printing out frequency and word in dict\n",
    "for k,v in word_dict.items():\n",
    "    print (v,':',k)\n"
   ]
  },
  {
   "cell_type": "markdown",
   "metadata": {},
   "source": [
    "## Exercise #3\n",
    "\n",
    "Write a program to implement a Linear Search Algorithm. Also in a comment, write the Time Complexity of the following algorithm.\n",
    "\n",
    "#### Hint: Linear Searching will require searching a list for a given number. "
   ]
  },
  {
   "cell_type": "code",
   "execution_count": 126,
   "metadata": {},
   "outputs": [
    {
     "name": "stdout",
     "output_type": "stream",
     "text": [
      "[2, 57, 30, 41, 5, 65, 76, 88, 91, 55] - Random list\n",
      "[2, 5, 30, 41, 55, 57, 65, 76, 88, 91] - Sorted random list\n"
     ]
    },
    {
     "data": {
      "text/plain": [
       "'The index of 55 is 4.'"
      ]
     },
     "execution_count": 126,
     "metadata": {},
     "output_type": "execute_result"
    }
   ],
   "source": [
    "# Terrell reccomends checking out: https://www.geeksforgeeks.org/binary-search/\n",
    "# !!!binary search must be sorted first!!!\n",
    "# time complexity is kinda redundant\n",
    "\n",
    "\"\"\" The time complexity for this algorithm is O(n)\"\"\"\n",
    "\n",
    "random_list = [2,57,30,41,5,65,76,88,91, 55]\n",
    "print(random_list, \"- Random list\")\n",
    "\n",
    "nums_list = sorted(random_list)\n",
    "print(nums_list, \"- Sorted random list\" )\n",
    "\n",
    "def binaryHelper(array, target, left, right):\n",
    "    while left <= right:\n",
    "        middle = (left + right) // 2\n",
    "        potential_match = array[middle]\n",
    "        if target == potential_match:\n",
    "            return f\"The index of {target} is {middle}.\"\n",
    "        elif target < potential_match:\n",
    "            right = middle - 1\n",
    "        else:\n",
    "            left = middle + 1 \n",
    "    return -1\n",
    "\n",
    "def binarySearch(array, target):\n",
    "    return binaryHelper(array, target, 0, len(array)-1)\n",
    "\n",
    "binarySearch(nums_list, 55)\n",
    "\n"
   ]
  },
  {
   "cell_type": "code",
   "execution_count": null,
   "metadata": {},
   "outputs": [],
   "source": []
  }
 ],
 "metadata": {
  "kernelspec": {
   "display_name": "Python 3 (ipykernel)",
   "language": "python",
   "name": "python3"
  },
  "language_info": {
   "codemirror_mode": {
    "name": "ipython",
    "version": 3
   },
   "file_extension": ".py",
   "mimetype": "text/x-python",
   "name": "python",
   "nbconvert_exporter": "python",
   "pygments_lexer": "ipython3",
   "version": "3.9.7"
  }
 },
 "nbformat": 4,
 "nbformat_minor": 2
}
